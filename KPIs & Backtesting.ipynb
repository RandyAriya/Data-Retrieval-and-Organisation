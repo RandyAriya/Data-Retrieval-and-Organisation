{
 "cells": [
  {
   "cell_type": "markdown",
   "metadata": {},
   "source": [
    "# KPIs"
   ]
  },
  {
   "cell_type": "code",
   "execution_count": 1,
   "metadata": {},
   "outputs": [],
   "source": [
    "import yfinance as yf\n",
    "import pandas as pd\n",
    "import datetime as dt\n",
    "import numpy as np\n",
    "import matplotlib as plt"
   ]
  },
  {
   "cell_type": "code",
   "execution_count": 2,
   "metadata": {},
   "outputs": [
    {
     "name": "stdout",
     "output_type": "stream",
     "text": [
      "[*********************100%***********************]  1 of 1 completed\n"
     ]
    },
    {
     "data": {
      "text/plain": [
       "<AxesSubplot:xlabel='Date'>"
      ]
     },
     "execution_count": 2,
     "metadata": {},
     "output_type": "execute_result"
    },
    {
     "data": {
      "image/png": "[encoded data removed]",
      "text/plain": [
       "<Figure size 432x288 with 1 Axes>"
      ]
     },
     "metadata": {
      "needs_background": "light"
     },
     "output_type": "display_data"
    }
   ],
   "source": [
    "start = dt.date.today() - dt.timedelta(1825)\n",
    "end = dt.date.today()\n",
    "\n",
    "ohlcv = yf.download(\"CBA.ax\", start, end)\n",
    "\n",
    "ohlcv[\"Adj Close\"].plot()"
   ]
  },
  {
   "cell_type": "markdown",
   "metadata": {},
   "source": [
    "### CAGR"
   ]
  },
  {
   "cell_type": "code",
   "execution_count": 3,
   "metadata": {},
   "outputs": [
    {
     "data": {
      "text/plain": [
       "0.12587755549424817"
      ]
     },
     "execution_count": 3,
     "metadata": {},
     "output_type": "execute_result"
    }
   ],
   "source": [
    "def CAGR(DF):\n",
    "    df = DF.copy()\n",
    "    df[\"daily return\"] = DF[\"Adj Close\"].pct_change()\n",
    "    df[\"cumulitive return\"] = (1 + df[\"daily return\"]).cumprod() \n",
    "    n = len(df)/252 \n",
    "    CAGR = (df[\"cumulitive return\"][-1])**(1/n) - 1 \n",
    "    return CAGR\n",
    "\n",
    "CAGR(ohlcv)"
   ]
  },
  {
   "cell_type": "markdown",
   "metadata": {},
   "source": [
    "### Volatility"
   ]
  },
  {
   "cell_type": "code",
   "execution_count": 4,
   "metadata": {},
   "outputs": [
    {
     "data": {
      "text/plain": [
       "0.2286017400999605"
      ]
     },
     "execution_count": 4,
     "metadata": {},
     "output_type": "execute_result"
    }
   ],
   "source": [
    "def volatility(DF):\n",
    "    df = DF.copy()\n",
    "    df[\"daily return\"] = DF[\"Adj Close\"].pct_change()\n",
    "    vol = df[\"daily return\"].std() * np.sqrt(252) \n",
    "    return vol\n",
    "\n",
    "volatility(ohlcv)"
   ]
  },
  {
   "cell_type": "markdown",
   "metadata": {},
   "source": [
    "### Sharpe Ratio"
   ]
  },
  {
   "cell_type": "code",
   "execution_count": 5,
   "metadata": {},
   "outputs": [
    {
     "data": {
      "text/plain": [
       "0.46315288522279474"
      ]
     },
     "execution_count": 5,
     "metadata": {},
     "output_type": "execute_result"
    }
   ],
   "source": [
    "def sharpe(DF, rf):\n",
    "    df = DF.copy()\n",
    "    sharpe = (CAGR(df) - rf)/volatility(df)\n",
    "    return sharpe\n",
    "\n",
    "sharpe(ohlcv, 0.02)"
   ]
  },
  {
   "cell_type": "markdown",
   "metadata": {},
   "source": [
    "# Backtesting"
   ]
  },
  {
   "cell_type": "code",
   "execution_count": 6,
   "metadata": {},
   "outputs": [],
   "source": [
    "#Strategy: starting with 6 stocks and replacing the worst performing stocks each month with the best performing stocks from a list"
   ]
  },
  {
   "cell_type": "code",
   "execution_count": 7,
   "metadata": {},
   "outputs": [],
   "source": [
    "start = dt.date.today()-dt.timedelta(395)\n",
    "end = dt.date.today()-dt.timedelta(30)"
   ]
  },
  {
   "cell_type": "code",
   "execution_count": 8,
   "metadata": {},
   "outputs": [
    {
     "data": {
      "text/plain": [
       "40     CBA\n",
       "28     BHP\n",
       "57     CSL\n",
       "188    WBC\n",
       "13     ANZ\n",
       "73     FMG\n",
       "112    NAB\n",
       "109    MQG\n",
       "76     GMG\n",
       "194    WOW\n",
       "190    WES\n",
       "179    TLS\n",
       "150    RIO\n",
       "195    WPL\n",
       "178    TCL\n",
       "16     APT\n",
       "6      ALL\n",
       "54     COL\n",
       "159    SCG\n",
       "156    S32\n",
       "114    NCM\n",
       "174    SUN\n",
       "144    QBE\n",
       "176    SYD\n",
       "38     BXB\n",
       "74     FPH\n",
       "53     COH\n",
       "21     ASX\n",
       "172    STO\n",
       "149    RHC\n",
       "Name: Code, dtype: object"
      ]
     },
     "execution_count": 8,
     "metadata": {},
     "output_type": "execute_result"
    }
   ],
   "source": [
    "asx_data = pd.read_html(\"https://en.wikipedia.org/wiki/S%26P/ASX_200\", header=0)\n",
    "\n",
    "asx_table = asx_data[0]\n",
    "\n",
    "asx_top30 = asx_table.sort_values(by=[\"Market Capitalisation\"], ascending=False)[:30] #Picking the top 30 stocks in ASX200 by market cap\n",
    "tickers = asx_top30[\"Code\"]\n",
    "\n",
    "tickers"
   ]
  },
  {
   "cell_type": "code",
   "execution_count": 9,
   "metadata": {},
   "outputs": [
    {
     "name": "stdout",
     "output_type": "stream",
     "text": [
      "[*********************100%***********************]  1 of 1 completed\n",
      "[*********************100%***********************]  1 of 1 completed\n",
      "[*********************100%***********************]  1 of 1 completed\n",
      "[*********************100%***********************]  1 of 1 completed\n",
      "[*********************100%***********************]  1 of 1 completed\n",
      "[*********************100%***********************]  1 of 1 completed\n",
      "[*********************100%***********************]  1 of 1 completed\n",
      "[*********************100%***********************]  1 of 1 completed\n",
      "[*********************100%***********************]  1 of 1 completed\n",
      "[*********************100%***********************]  1 of 1 completed\n",
      "[*********************100%***********************]  1 of 1 completed\n",
      "[*********************100%***********************]  1 of 1 completed\n",
      "[*********************100%***********************]  1 of 1 completed\n",
      "[*********************100%***********************]  1 of 1 completed\n",
      "[*********************100%***********************]  1 of 1 completed\n",
      "[*********************100%***********************]  1 of 1 completed\n",
      "[*********************100%***********************]  1 of 1 completed\n",
      "[*********************100%***********************]  1 of 1 completed\n",
      "[*********************100%***********************]  1 of 1 completed\n",
      "[*********************100%***********************]  1 of 1 completed\n",
      "[*********************100%***********************]  1 of 1 completed\n",
      "[*********************100%***********************]  1 of 1 completed\n",
      "[*********************100%***********************]  1 of 1 completed\n",
      "[*********************100%***********************]  1 of 1 completed\n",
      "[*********************100%***********************]  1 of 1 completed\n",
      "[*********************100%***********************]  1 of 1 completed\n",
      "[*********************100%***********************]  1 of 1 completed\n",
      "[*********************100%***********************]  1 of 1 completed\n",
      "[*********************100%***********************]  1 of 1 completed\n",
      "[*********************100%***********************]  1 of 1 completed\n"
     ]
    }
   ],
   "source": [
    "#Creating list of top 30 stocks and their monthly returns\n",
    "stock_list = {} \n",
    "monthly_return_df = pd.DataFrame()\n",
    "\n",
    "for item in tickers:\n",
    "    stock_list[item] = yf.download(item+\".ax\", start, end, interval=\"1mo\")\n",
    "    stock_list[item].dropna(inplace=True)\n",
    "    stock_list[item][\"gain\"] = stock_list[item][\"Adj Close\"].pct_change()\n",
    "    monthly_return_df[item] = stock_list[item][\"gain\"]\n",
    "    monthly_return_df.dropna(inplace=True)"
   ]
  },
  {
   "cell_type": "code",
   "execution_count": 10,
   "metadata": {},
   "outputs": [
    {
     "data": {
      "text/html": [
       "<div>\n",
       "<style scoped>\n",
       "    .dataframe tbody tr th:only-of-type {\n",
       "        vertical-align: middle;\n",
       "    }\n",
       "\n",
       "    .dataframe tbody tr th {\n",
       "        vertical-align: top;\n",
       "    }\n",
       "\n",
       "    .dataframe thead th {\n",
       "        text-align: right;\n",
       "    }\n",
       "</style>\n",
       "<table border=\"1\" class=\"dataframe\">\n",
       "  <thead>\n",
       "    <tr style=\"text-align: right;\">\n",
       "      <th></th>\n",
       "      <th>CBA</th>\n",
       "      <th>BHP</th>\n",
       "      <th>CSL</th>\n",
       "      <th>WBC</th>\n",
       "      <th>ANZ</th>\n",
       "      <th>FMG</th>\n",
       "      <th>NAB</th>\n",
       "      <th>MQG</th>\n",
       "      <th>GMG</th>\n",
       "      <th>WOW</th>\n",
       "      <th>...</th>\n",
       "      <th>NCM</th>\n",
       "      <th>SUN</th>\n",
       "      <th>QBE</th>\n",
       "      <th>SYD</th>\n",
       "      <th>BXB</th>\n",
       "      <th>FPH</th>\n",
       "      <th>COH</th>\n",
       "      <th>ASX</th>\n",
       "      <th>STO</th>\n",
       "      <th>RHC</th>\n",
       "    </tr>\n",
       "    <tr>\n",
       "      <th>Date</th>\n",
       "      <th></th>\n",
       "      <th></th>\n",
       "      <th></th>\n",
       "      <th></th>\n",
       "      <th></th>\n",
       "      <th></th>\n",
       "      <th></th>\n",
       "      <th></th>\n",
       "      <th></th>\n",
       "      <th></th>\n",
       "      <th></th>\n",
       "      <th></th>\n",
       "      <th></th>\n",
       "      <th></th>\n",
       "      <th></th>\n",
       "      <th></th>\n",
       "      <th></th>\n",
       "      <th></th>\n",
       "      <th></th>\n",
       "      <th></th>\n",
       "      <th></th>\n",
       "    </tr>\n",
       "  </thead>\n",
       "  <tbody>\n",
       "    <tr>\n",
       "      <th>2020-07-01</th>\n",
       "      <td>0.025641</td>\n",
       "      <td>0.025963</td>\n",
       "      <td>-0.058885</td>\n",
       "      <td>-0.047911</td>\n",
       "      <td>-0.036481</td>\n",
       "      <td>0.257040</td>\n",
       "      <td>-0.030735</td>\n",
       "      <td>0.041231</td>\n",
       "      <td>0.151370</td>\n",
       "      <td>0.037554</td>\n",
       "      <td>...</td>\n",
       "      <td>0.115763</td>\n",
       "      <td>-0.073673</td>\n",
       "      <td>0.118510</td>\n",
       "      <td>-0.077601</td>\n",
       "      <td>-0.008280</td>\n",
       "      <td>0.007004</td>\n",
       "      <td>0.006828</td>\n",
       "      <td>-0.031975</td>\n",
       "      <td>-0.005660</td>\n",
       "      <td>-0.068250</td>\n",
       "    </tr>\n",
       "    <tr>\n",
       "      <th>2020-08-01</th>\n",
       "      <td>-0.041011</td>\n",
       "      <td>0.031565</td>\n",
       "      <td>0.058904</td>\n",
       "      <td>0.026331</td>\n",
       "      <td>0.017817</td>\n",
       "      <td>0.000574</td>\n",
       "      <td>0.015289</td>\n",
       "      <td>0.034092</td>\n",
       "      <td>0.081512</td>\n",
       "      <td>0.030765</td>\n",
       "      <td>...</td>\n",
       "      <td>-0.091529</td>\n",
       "      <td>0.087719</td>\n",
       "      <td>0.070636</td>\n",
       "      <td>0.121778</td>\n",
       "      <td>0.028757</td>\n",
       "      <td>0.018740</td>\n",
       "      <td>0.010146</td>\n",
       "      <td>0.056745</td>\n",
       "      <td>0.075901</td>\n",
       "      <td>0.049693</td>\n",
       "    </tr>\n",
       "    <tr>\n",
       "      <th>2020-09-01</th>\n",
       "      <td>-0.055259</td>\n",
       "      <td>-0.060934</td>\n",
       "      <td>0.003461</td>\n",
       "      <td>-0.039909</td>\n",
       "      <td>-0.044997</td>\n",
       "      <td>-0.011932</td>\n",
       "      <td>-0.010039</td>\n",
       "      <td>-0.063665</td>\n",
       "      <td>-0.020208</td>\n",
       "      <td>-0.086280</td>\n",
       "      <td>...</td>\n",
       "      <td>-0.015312</td>\n",
       "      <td>-0.081864</td>\n",
       "      <td>-0.185490</td>\n",
       "      <td>0.024476</td>\n",
       "      <td>-0.054103</td>\n",
       "      <td>-0.088849</td>\n",
       "      <td>0.030445</td>\n",
       "      <td>-0.072361</td>\n",
       "      <td>-0.134908</td>\n",
       "      <td>0.015678</td>\n",
       "    </tr>\n",
       "    <tr>\n",
       "      <th>2020-10-01</th>\n",
       "      <td>0.085049</td>\n",
       "      <td>-0.032155</td>\n",
       "      <td>0.007219</td>\n",
       "      <td>0.063539</td>\n",
       "      <td>0.092334</td>\n",
       "      <td>0.065644</td>\n",
       "      <td>0.047887</td>\n",
       "      <td>0.060049</td>\n",
       "      <td>0.025641</td>\n",
       "      <td>0.060253</td>\n",
       "      <td>...</td>\n",
       "      <td>-0.064020</td>\n",
       "      <td>-0.028402</td>\n",
       "      <td>-0.041812</td>\n",
       "      <td>-0.069966</td>\n",
       "      <td>-0.075086</td>\n",
       "      <td>0.072971</td>\n",
       "      <td>0.071616</td>\n",
       "      <td>-0.002937</td>\n",
       "      <td>-0.030738</td>\n",
       "      <td>-0.056447</td>\n",
       "    </tr>\n",
       "    <tr>\n",
       "      <th>2020-11-01</th>\n",
       "      <td>0.145610</td>\n",
       "      <td>0.126998</td>\n",
       "      <td>0.034149</td>\n",
       "      <td>0.123953</td>\n",
       "      <td>0.203615</td>\n",
       "      <td>0.049511</td>\n",
       "      <td>0.230645</td>\n",
       "      <td>0.094043</td>\n",
       "      <td>0.015217</td>\n",
       "      <td>-0.030922</td>\n",
       "      <td>...</td>\n",
       "      <td>-0.079001</td>\n",
       "      <td>0.228989</td>\n",
       "      <td>0.212121</td>\n",
       "      <td>0.231193</td>\n",
       "      <td>0.142857</td>\n",
       "      <td>0.023483</td>\n",
       "      <td>0.038835</td>\n",
       "      <td>-0.031646</td>\n",
       "      <td>0.302326</td>\n",
       "      <td>0.011227</td>\n",
       "    </tr>\n",
       "    <tr>\n",
       "      <th>2020-12-01</th>\n",
       "      <td>0.038447</td>\n",
       "      <td>0.114526</td>\n",
       "      <td>-0.047750</td>\n",
       "      <td>-0.021516</td>\n",
       "      <td>0.020880</td>\n",
       "      <td>0.285244</td>\n",
       "      <td>0.001095</td>\n",
       "      <td>0.008272</td>\n",
       "      <td>0.012313</td>\n",
       "      <td>0.063007</td>\n",
       "      <td>...</td>\n",
       "      <td>-0.042703</td>\n",
       "      <td>-0.034688</td>\n",
       "      <td>-0.147000</td>\n",
       "      <td>-0.044709</td>\n",
       "      <td>-0.032847</td>\n",
       "      <td>-0.077771</td>\n",
       "      <td>-0.142546</td>\n",
       "      <td>-0.066269</td>\n",
       "      <td>0.017857</td>\n",
       "      <td>-0.013799</td>\n",
       "    </tr>\n",
       "    <tr>\n",
       "      <th>2021-01-01</th>\n",
       "      <td>0.017050</td>\n",
       "      <td>0.026632</td>\n",
       "      <td>-0.040469</td>\n",
       "      <td>0.090862</td>\n",
       "      <td>0.044493</td>\n",
       "      <td>-0.069996</td>\n",
       "      <td>0.041593</td>\n",
       "      <td>-0.051127</td>\n",
       "      <td>-0.057722</td>\n",
       "      <td>0.039430</td>\n",
       "      <td>...</td>\n",
       "      <td>-0.025601</td>\n",
       "      <td>0.034908</td>\n",
       "      <td>-0.058617</td>\n",
       "      <td>-0.107644</td>\n",
       "      <td>-0.002830</td>\n",
       "      <td>0.048421</td>\n",
       "      <td>0.044656</td>\n",
       "      <td>-0.002917</td>\n",
       "      <td>0.038278</td>\n",
       "      <td>0.012705</td>\n",
       "    </tr>\n",
       "    <tr>\n",
       "      <th>2021-02-01</th>\n",
       "      <td>-0.023351</td>\n",
       "      <td>0.127870</td>\n",
       "      <td>-0.033601</td>\n",
       "      <td>0.127307</td>\n",
       "      <td>0.103754</td>\n",
       "      <td>0.106471</td>\n",
       "      <td>0.046729</td>\n",
       "      <td>0.084323</td>\n",
       "      <td>-0.063348</td>\n",
       "      <td>-0.035732</td>\n",
       "      <td>...</td>\n",
       "      <td>-0.019108</td>\n",
       "      <td>-0.013889</td>\n",
       "      <td>0.156912</td>\n",
       "      <td>0.024476</td>\n",
       "      <td>-0.063387</td>\n",
       "      <td>-0.160681</td>\n",
       "      <td>0.070756</td>\n",
       "      <td>-0.058365</td>\n",
       "      <td>0.110599</td>\n",
       "      <td>0.048118</td>\n",
       "    </tr>\n",
       "    <tr>\n",
       "      <th>2021-03-01</th>\n",
       "      <td>0.074336</td>\n",
       "      <td>-0.077956</td>\n",
       "      <td>0.007845</td>\n",
       "      <td>0.024769</td>\n",
       "      <td>0.076806</td>\n",
       "      <td>-0.170884</td>\n",
       "      <td>0.055195</td>\n",
       "      <td>0.072642</td>\n",
       "      <td>0.094203</td>\n",
       "      <td>0.037310</td>\n",
       "      <td>...</td>\n",
       "      <td>-0.001064</td>\n",
       "      <td>0.021215</td>\n",
       "      <td>0.035522</td>\n",
       "      <td>0.056314</td>\n",
       "      <td>0.068687</td>\n",
       "      <td>0.084102</td>\n",
       "      <td>-0.002081</td>\n",
       "      <td>0.051035</td>\n",
       "      <td>-0.008705</td>\n",
       "      <td>0.015151</td>\n",
       "    </tr>\n",
       "    <tr>\n",
       "      <th>2021-04-01</th>\n",
       "      <td>0.034146</td>\n",
       "      <td>0.080843</td>\n",
       "      <td>0.029802</td>\n",
       "      <td>0.023351</td>\n",
       "      <td>0.019872</td>\n",
       "      <td>0.203439</td>\n",
       "      <td>0.025385</td>\n",
       "      <td>0.050121</td>\n",
       "      <td>0.043598</td>\n",
       "      <td>-0.025443</td>\n",
       "      <td>...</td>\n",
       "      <td>0.085995</td>\n",
       "      <td>0.061616</td>\n",
       "      <td>0.024948</td>\n",
       "      <td>0.000000</td>\n",
       "      <td>-0.003959</td>\n",
       "      <td>0.144267</td>\n",
       "      <td>0.060375</td>\n",
       "      <td>0.044274</td>\n",
       "      <td>-0.016901</td>\n",
       "      <td>0.012421</td>\n",
       "    </tr>\n",
       "    <tr>\n",
       "      <th>2021-05-01</th>\n",
       "      <td>0.119946</td>\n",
       "      <td>0.003145</td>\n",
       "      <td>0.070254</td>\n",
       "      <td>0.057646</td>\n",
       "      <td>-0.001044</td>\n",
       "      <td>-0.007083</td>\n",
       "      <td>0.010878</td>\n",
       "      <td>-0.053337</td>\n",
       "      <td>0.027499</td>\n",
       "      <td>0.059033</td>\n",
       "      <td>...</td>\n",
       "      <td>0.067873</td>\n",
       "      <td>0.058040</td>\n",
       "      <td>0.110548</td>\n",
       "      <td>-0.051696</td>\n",
       "      <td>0.040385</td>\n",
       "      <td>-0.169492</td>\n",
       "      <td>0.020404</td>\n",
       "      <td>0.044944</td>\n",
       "      <td>-0.030086</td>\n",
       "      <td>-0.056744</td>\n",
       "    </tr>\n",
       "  </tbody>\n",
       "</table>\n",
       "<p>11 rows × 30 columns</p>\n",
       "</div>"
      ],
      "text/plain": [
       "                 CBA       BHP       CSL       WBC       ANZ       FMG  \\\n",
       "Date                                                                     \n",
       "2020-07-01  0.025641  0.025963 -0.058885 -0.047911 -0.036481  0.257040   \n",
       "2020-08-01 -0.041011  0.031565  0.058904  0.026331  0.017817  0.000574   \n",
       "2020-09-01 -0.055259 -0.060934  0.003461 -0.039909 -0.044997 -0.011932   \n",
       "2020-10-01  0.085049 -0.032155  0.007219  0.063539  0.092334  0.065644   \n",
       "2020-11-01  0.145610  0.126998  0.034149  0.123953  0.203615  0.049511   \n",
       "2020-12-01  0.038447  0.114526 -0.047750 -0.021516  0.020880  0.285244   \n",
       "2021-01-01  0.017050  0.026632 -0.040469  0.090862  0.044493 -0.069996   \n",
       "2021-02-01 -0.023351  0.127870 -0.033601  0.127307  0.103754  0.106471   \n",
       "2021-03-01  0.074336 -0.077956  0.007845  0.024769  0.076806 -0.170884   \n",
       "2021-04-01  0.034146  0.080843  0.029802  0.023351  0.019872  0.203439   \n",
       "2021-05-01  0.119946  0.003145  0.070254  0.057646 -0.001044 -0.007083   \n",
       "\n",
       "                 NAB       MQG       GMG       WOW  ...       NCM       SUN  \\\n",
       "Date                                                ...                       \n",
       "2020-07-01 -0.030735  0.041231  0.151370  0.037554  ...  0.115763 -0.073673   \n",
       "2020-08-01  0.015289  0.034092  0.081512  0.030765  ... -0.091529  0.087719   \n",
       "2020-09-01 -0.010039 -0.063665 -0.020208 -0.086280  ... -0.015312 -0.081864   \n",
       "2020-10-01  0.047887  0.060049  0.025641  0.060253  ... -0.064020 -0.028402   \n",
       "2020-11-01  0.230645  0.094043  0.015217 -0.030922  ... -0.079001  0.228989   \n",
       "2020-12-01  0.001095  0.008272  0.012313  0.063007  ... -0.042703 -0.034688   \n",
       "2021-01-01  0.041593 -0.051127 -0.057722  0.039430  ... -0.025601  0.034908   \n",
       "2021-02-01  0.046729  0.084323 -0.063348 -0.035732  ... -0.019108 -0.013889   \n",
       "2021-03-01  0.055195  0.072642  0.094203  0.037310  ... -0.001064  0.021215   \n",
       "2021-04-01  0.025385  0.050121  0.043598 -0.025443  ...  0.085995  0.061616   \n",
       "2021-05-01  0.010878 -0.053337  0.027499  0.059033  ...  0.067873  0.058040   \n",
       "\n",
       "                 QBE       SYD       BXB       FPH       COH       ASX  \\\n",
       "Date                                                                     \n",
       "2020-07-01  0.118510 -0.077601 -0.008280  0.007004  0.006828 -0.031975   \n",
       "2020-08-01  0.070636  0.121778  0.028757  0.018740  0.010146  0.056745   \n",
       "2020-09-01 -0.185490  0.024476 -0.054103 -0.088849  0.030445 -0.072361   \n",
       "2020-10-01 -0.041812 -0.069966 -0.075086  0.072971  0.071616 -0.002937   \n",
       "2020-11-01  0.212121  0.231193  0.142857  0.023483  0.038835 -0.031646   \n",
       "2020-12-01 -0.147000 -0.044709 -0.032847 -0.077771 -0.142546 -0.066269   \n",
       "2021-01-01 -0.058617 -0.107644 -0.002830  0.048421  0.044656 -0.002917   \n",
       "2021-02-01  0.156912  0.024476 -0.063387 -0.160681  0.070756 -0.058365   \n",
       "2021-03-01  0.035522  0.056314  0.068687  0.084102 -0.002081  0.051035   \n",
       "2021-04-01  0.024948  0.000000 -0.003959  0.144267  0.060375  0.044274   \n",
       "2021-05-01  0.110548 -0.051696  0.040385 -0.169492  0.020404  0.044944   \n",
       "\n",
       "                 STO       RHC  \n",
       "Date                            \n",
       "2020-07-01 -0.005660 -0.068250  \n",
       "2020-08-01  0.075901  0.049693  \n",
       "2020-09-01 -0.134908  0.015678  \n",
       "2020-10-01 -0.030738 -0.056447  \n",
       "2020-11-01  0.302326  0.011227  \n",
       "2020-12-01  0.017857 -0.013799  \n",
       "2021-01-01  0.038278  0.012705  \n",
       "2021-02-01  0.110599  0.048118  \n",
       "2021-03-01 -0.008705  0.015151  \n",
       "2021-04-01 -0.016901  0.012421  \n",
       "2021-05-01 -0.030086 -0.056744  \n",
       "\n",
       "[11 rows x 30 columns]"
      ]
     },
     "execution_count": 10,
     "metadata": {},
     "output_type": "execute_result"
    }
   ],
   "source": [
    "monthly_return_df"
   ]
  },
  {
   "cell_type": "code",
   "execution_count": null,
   "metadata": {},
   "outputs": [],
   "source": [
    "def strategy(DF, m, x):\n",
    "    df = DF.copy()  \n",
    "    x = 3 #no. of stocks to replace\n",
    "    m = 6 #no. of stocks in portfolio each month\n",
    "    portfolio = monthly_return_df.iloc[0].sort_values(ascending = False)[:m].index.tolist() #selecing the top 6 stocks by returns\n",
    "    monthly_return_portfolio = [0] \n",
    "    monthly_stocks = pd.DataFrame() \n",
    "    for i in range(len(df)):\n",
    "        monthly_return_portfolio.append(df[portfolio].iloc[i,:].mean())\n",
    "        bad_stocks = df[portfolio].iloc[i,:].sort_values(ascending=True)[:x]\n",
    "        portfolio = [t for t in portfolio if t not in bad_stocks]\n",
    "        fill = m - len(portfolio)\n",
    "        new_stocks = df.iloc[i,:].sort_values(ascending=False)[:fill].index.tolist()\n",
    "        portfolio = portfolio + new_stocks\n",
    "        print(portfolio)\n",
    "    monthly_stocks_return_df = pd.DataFrame(np.array(monthly_return_portfolio), columns=[\"monthly_return_portfolio\"])\n",
    "    return monthly_stocks_return_df\n",
    "\n",
    "strategy(monthly_return_df, 6, 3)"
   ]
  },
  {
   "cell_type": "code",
   "execution_count": null,
   "metadata": {},
   "outputs": [],
   "source": [
    "def CAGR(DF): \n",
    "    df = DF.copy()\n",
    "    df[\"cumulitive return\"] = (1 + df[\"monthly_return_portfolio\"]).cumprod()\n",
    "    n = len(df)/12\n",
    "    CAGR = (df[\"cumulitive return\"].tolist()[-1])**(1/n) - 1\n",
    "    return CAGR\n",
    "\n",
    "CAGR(strategy(monthly_return_df, 6, 3))"
   ]
  },
  {
   "cell_type": "markdown",
   "metadata": {},
   "source": [
    "### Comparison to holding all 30 stocks (Control)"
   ]
  },
  {
   "cell_type": "code",
   "execution_count": null,
   "metadata": {},
   "outputs": [],
   "source": [
    "monthly_return_df['monthly_return_portfolio'] = monthly_return_df.mean(axis=1)\n",
    "monthly_return_df['monthly_return_portfolio']"
   ]
  },
  {
   "cell_type": "code",
   "execution_count": null,
   "metadata": {},
   "outputs": [],
   "source": [
    "CAGR(monthly_return_df)"
   ]
  },
  {
   "cell_type": "raw",
   "metadata": {},
   "source": [
    "Rebalancing Strategy CAGR: 0.13482451081843472\n",
    "Control CAGR: 0.2886537441980581"
   ]
  }
 ],
 "metadata": {
  "kernelspec": {
   "display_name": "Python 3",
   "language": "python",
   "name": "python3"
  },
  "language_info": {
   "codemirror_mode": {
    "name": "ipython",
    "version": 3
   },
   "file_extension": ".py",
   "mimetype": "text/x-python",
   "name": "python",
   "nbconvert_exporter": "python",
   "pygments_lexer": "ipython3",
   "version": "3.8.5"
  }
 },
 "nbformat": 4,
 "nbformat_minor": 4
}
