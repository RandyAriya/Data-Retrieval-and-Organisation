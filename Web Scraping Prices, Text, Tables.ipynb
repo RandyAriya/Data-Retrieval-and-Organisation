{
 "cells": [
  {
   "cell_type": "code",
   "execution_count": 1,
   "metadata": {},
   "outputs": [],
   "source": [
    "import requests\n",
    "from bs4 import BeautifulSoup"
   ]
  },
  {
   "cell_type": "markdown",
   "metadata": {},
   "source": [
    "### Scraping prices"
   ]
  },
  {
   "cell_type": "code",
   "execution_count": 2,
   "metadata": {},
   "outputs": [
    {
     "name": "stdout",
     "output_type": "stream",
     "text": [
      "eth : $2,564.22\n"
     ]
    }
   ],
   "source": [
    "url = \"https://www.coingecko.com/en\"\n",
    "page = requests.get(url)\n",
    "page_content = page.content\n",
    "\n",
    "coin = \"eth\"\n",
    "\n",
    "soup = BeautifulSoup(page_content, 'html.parser')\n",
    "tabl = soup.find_all(\"tr\")\n",
    "\n",
    "for items in tabl:\n",
    "    rows = items.find_all(\"span\", {\"data-coin-symbol\":coin})\n",
    "    for each in rows:\n",
    "        print(coin, \":\" ,each.get_text())"
   ]
  },
  {
   "cell_type": "markdown",
   "metadata": {},
   "source": [
    "### Sraping and Analysing Text"
   ]
  },
  {
   "cell_type": "code",
   "execution_count": 3,
   "metadata": {},
   "outputs": [],
   "source": [
    "import newspaper"
   ]
  },
  {
   "cell_type": "code",
   "execution_count": 4,
   "metadata": {},
   "outputs": [
    {
     "name": "stdout",
     "output_type": "stream",
     "text": [
      "https://au.finance.yahoo.com/news/millions-to-receive-25000-under-property-plan-030958508.html\n",
      "https://au.finance.yahoo.com/news/late-riser-depression-risk-covid-015741982.html\n",
      "https://au.finance.yahoo.com/news/5-tax-tips-for-property-investors-004411226.html\n",
      "https://au.finance.yahoo.com/news/what-do-money-other-than-bank-202948189.html\n",
      "https://au.finance.yahoo.com/news/aussie-coins-sell-for-15-m-each-002411117.html\n",
      "https://au.finance.yahoo.com/news/millennials-addicted-sales-223001154.html\n",
      "https://au.finance.yahoo.com/news/p-500-dips-record-closing-145048048.html\n",
      "https://au.finance.yahoo.com/news/global-markets-stocks-dance-around-143139076.html\n",
      "https://au.yahoo.com/news/more-than-20-suburbs-on-alert-after-covid-fragments-detected-110145396.html\n",
      "https://au.yahoo.com/lifestyle/sunrise-host-nat-barr-cheeky-jab-chris-hemsworth-who-queen-honour-031714019.html\n",
      "https://au.yahoo.com/sports/french-open-stefanos-tsitsipas-grandmother-died-before-djokovic-final-defeat-031351248.html\n",
      "https://au.yahoo.com/sports/finke-desert-race-northern-territory-accident-one-dead-two-injured-044124309.html\n",
      "https://au.yahoo.com/news/woman-cops-death-threats-over-shocking-hunting-photos-100145564.html\n",
      "https://au.yahoo.com/sports/french-open-2021-novak-djokovic-beats-tsitsipas-19th-grand-slam-title-214127383.html\n",
      "https://au.yahoo.com/news/marvel-star-anna-paquin-says-103656009.html\n",
      "https://au.yahoo.com/lifestyle/tik-tok-loses-it-bizarre-open-bum-leggings-rihanna-savage-fenty-060422790.html\n",
      "https://au.yahoo.com/lifestyle/how-queen-jewellery-subtly-referenced-harry-meghan-050539023.html\n",
      "https://au.yahoo.com/lifestyle/masterchef-judges-tears-after-contestant-shock-exit-brent-draper-234654405.html\n",
      "https://au.tv.yahoo.com/au-news-video-national-playlist-new/2-dogs-rescued-mexico-sinkhole-133454835.html\n",
      "https://weather.yahoo.com.au/more-than-20-suburbs-on-alert-after-covid-fragments-detected-110145396.html\n",
      "https://weather.yahoo.com.au/woman-cops-death-threats-over-shocking-hunting-photos-100145564.html\n",
      "https://au.news.yahoo.com/more-than-20-suburbs-on-alert-after-covid-fragments-detected-110145396.html\n",
      "https://au.news.yahoo.com/what-a-legend-new-mum-shares-strangers-beautiful-note-095141373.html\n",
      "https://au.news.yahoo.com/tributes-flow-news-anchor-christopher-sign-shock-death-020018271.html\n",
      "https://au.news.yahoo.com/mystery-lost-elephant-made-friends-with-goat-solved-dna-092732385.html\n",
      "https://au.news.yahoo.com/woman-cops-death-threats-over-shocking-hunting-photos-100145564.html\n",
      "https://au.news.yahoo.com/blood-snow-alarming-theory-behind-red-mountains-034805238.html\n",
      "https://au.news.yahoo.com/bizarre-announcement-attempt-to-open-plane-door-082513675.html\n",
      "https://au.news.yahoo.com/woolworths-shopper-calls-store-trial-smart-trolleys-072034139.html\n",
      "https://au.news.yahoo.com/chilling-find-in-home-of-butcher-serial-killer-mexico-070134800.html\n",
      "https://au.news.yahoo.com/tamil-family-to-be-freed-immigration-detention-060749339.html\n",
      "https://au.news.yahoo.com/coles-express-added-to-list-of-victorias-covid-exposure-sites-044324698.html\n",
      "https://au.news.yahoo.com/body-found-on-walking-trail-at-popular-tourist-destination-040532168.html\n",
      "https://au.news.yahoo.com/lotto-win-reignites-couples-dream-031203793.html\n",
      "https://au.news.yahoo.com/boy-8-dragged-away-head-mauled-horrific-hyena-attack-024023926.html\n",
      "https://au.news.yahoo.com/man-sentenced-after-strangling-and-dismembering-tinder-date-021740242.html\n",
      "https://au.news.yahoo.com/boy-10-dies-saving-little-sister-drowning-river-003534348.html\n",
      "https://au.news.yahoo.com/womans-creepy-find-under-carpet-of-home-where-person-died-000722267.html\n",
      "https://au.news.yahoo.com/victoria-records-two-new-locally-acquired-covid-cases-230126861.html\n",
      "https://au.news.yahoo.com/accused-drunk-drivers-bizarre-act-pulled-over-cops-221459254.html\n",
      "https://au.news.yahoo.com/seriously-concerned-world-leaders-issue-dramatic-call-to-china-220236510.html\n",
      "https://au.news.yahoo.com/experts-reveal-horrific-cost-of-covid-cases-drop-united-states-213824111.html\n",
      "https://au.news.yahoo.com/aussie-state-banning-single-use-coffee-cups-211058783.html\n",
      "https://au.sports.yahoo.com/afl-nathan-buckley-final-game-collingwood-melbourne-coach-sgc-bizarre-gift-tony-shepherd-061537865.html\n",
      "https://au.sports.yahoo.com/nba-playoffs-nuggets-suns-nikola-jokic-ejected-cameron-payne-chris-paul-devin-booker-041433265.html\n",
      "https://au.sports.yahoo.com/french-open-2021-barbora-krejcikova-completes-rare-roland-garros-double-044113531.html\n",
      "https://au.sports.yahoo.com/french-open-stefanos-tsitsipas-grandmother-died-before-djokovic-final-defeat-031351248.html\n",
      "https://au.sports.yahoo.com/finke-desert-race-northern-territory-accident-one-dead-two-injured-044124309.html\n",
      "https://au.sports.yahoo.com/french-open-2021-novak-djokovic-targets-golden-slam-after-19th-major-title-023116653.html\n",
      "https://au.sports.yahoo.com/australian-olympic-swimming-trials-kaylee-mckeown-world-record-backstroke-father-death-022146156.html\n",
      "https://au.sports.yahoo.com/french-open-2021-stefanos-tsitsipas-shattered-after-djokovic-final-heartbreak-010030433.html\n",
      "https://au.sports.yahoo.com/nrl-2021-boyd-cordner-retirement-roosters-captain-makes-tearful-announcement-233815086.html\n",
      "https://au.sports.yahoo.com/euro-2020-football-christian-eriksen-collapse-cardiac-arrest-no-pulse-223558073.html\n",
      "https://au.sports.yahoo.com/french-open-2021-novak-djokovic-beats-tsitsipas-19th-grand-slam-title-214127383.html\n",
      "https://au.lifestyle.yahoo.com/tik-tok-loses-it-bizarre-open-bum-leggings-rihanna-savage-fenty-060422790.html\n",
      "https://au.lifestyle.yahoo.com/tiktok-user-finds-spooky-letter-she-wrote-future-partner-teen-060255246.html\n",
      "https://au.lifestyle.yahoo.com/how-queen-jewellery-subtly-referenced-harry-meghan-050539023.html\n",
      "https://au.lifestyle.yahoo.com/sunrise-host-nat-barr-cheeky-jab-chris-hemsworth-who-queen-honour-031714019.html\n",
      "https://au.lifestyle.yahoo.com/kmart-shoppers-spot-hilarious-typo-product-instructions-025604117.html\n",
      "https://au.lifestyle.yahoo.com/celebrity-apprentice-fans-demand-martha-fired-after-cheating-015025992.html\n",
      "https://au.lifestyle.yahoo.com/thomas-markle-slams-oprah-playing-meghan-harry-001646574.html\n",
      "https://au.lifestyle.yahoo.com/masterchef-judges-tears-after-contestant-shock-exit-brent-draper-234654405.html\n",
      "https://au.tv.yahoo.com/au-news-video-national-playlist-new/2-dogs-rescued-mexico-sinkhole-133454835.html?soc_src=vid&soc_trk=tu\n"
     ]
    }
   ],
   "source": [
    "yahoo_finance = newspaper.build('https://au.finance.yahoo.com/')\n",
    "\n",
    "for article in yahoo_finance.articles:\n",
    "    print(article.url)"
   ]
  },
  {
   "cell_type": "code",
   "execution_count": 8,
   "metadata": {},
   "outputs": [],
   "source": [
    "from newspaper import Article"
   ]
  },
  {
   "cell_type": "code",
   "execution_count": 9,
   "metadata": {},
   "outputs": [],
   "source": [
    "article = Article('https://au.finance.yahoo.com/news/crisis-reaches-crossroads-global-interest-200000666.html')\n",
    "\n",
    "article.download()\n",
    "article.parse()"
   ]
  },
  {
   "cell_type": "code",
   "execution_count": 10,
   "metadata": {},
   "outputs": [
    {
     "data": {
      "text/plain": [
       "'(Bloomberg) -- Sign up for the New Economy Daily newsletter, follow us @economics and subscribe to our podcast.\\n\\nThe Federal Reserve’s much awaited interest-rate meeting this week is just one of a panoply by global central banks whose policies are increasingly diverging as economies respond in different ways to the coronavirus crisis.\\n\\nAn anticipated decision in Washington on Wednesday to stay the course with an easing stance for the duration of the American summer may only underscore how what was once synchronized stimulus across the world is evolving into a monetary kaleidoscope.\\n\\nIncluding the U.S., rate-setting on five continents, for a quarter of the Group of 20 and covering more than a third of global economic output, is likely to show how some institutions are more concerned about inflation taking hold, while others would dearly like to see that happen, to a degree at least.\\n\\nIn Norway on Thursday, officials may reiterate the need for a cycle of monetary tightening to begin there later this year, while Brazil is poised to increase its benchmark the previous day. Others, from Japan to Turkey to Switzerland, will probably keep their policies unchanged, albeit for different reasons and at highly contrasting settings.\\n\\nThe busy week augured by that concentration of central bank meetings means the coming days may arguably set the tone for global policy for much of the rest of 2021.\\n\\nWhat Bloomberg Economics Says:\\n\\n“In a busy week for central banks the focus will be on the Fed. Despite the surprise high for May CPI, we don’t think Powell will change the fundamental view on inflation or hint at a faster tapering timetable. For policy makers in emerging markets -- already contending with enough challenges without adding accelerating capital outflows to the mix -- that’s good news.”\\n\\n--Tom Orlik, chief economist\\n\\nElsewhere, China is set to publish the latest snapshot of the state of its recovery and the U.K. Prime Minister Boris Johnson faces a crunch decision on whether to proceed with the final stage of reopening the economy later this month.\\n\\nStory continues\\n\\nClick here for what happened last week and below is our wrap of what is coming up in the global economy.\\n\\nU.S. and Canada\\n\\nWith the Federal Reserve set to stand pat on rates, markets instead will be looking to Chair Jerome Powell for any details on when and how the U.S. central bank will start withdrawing its bond-buying purchases to support the economy, or at least to start the discussion on the topic.\\n\\nInvestors will also be watching data on U.S. retail sales, industrial production, business inventories and housing starts for the latest signs on supply-chain constraints and consumer strength.\\n\\nIn Canada, inflation data out on Wednesday could stoke worries about loose monetary policy settings.\\n\\nFor more, read Bloomberg Economics’ full Week Ahead for the U.S.\\n\\nAsia\\n\\nChina’s monthly data dump is due Wednesday and is likely to show the economy remained resilient in May, though industrial production is expected to moderate a little as the low base from a year ago begins to work it’s way through the data.\\n\\nRead more: What China’s ‘Market Maoists’ Tell Us About Trade Tensions Today\\n\\nJapan and South Korea will roll out more export numbers, offering clues on the strength of the global trade recovery, though investors will have to look beyond inflated year-on-year numbers for the real pulse.\\n\\nNew Zealand’s GDP release on Thursday will show if the economy has avoided a recession. Reserve Bank of Australia chief Philip Lowe will speak Thursday amid continued chatter about whether he’ll launch another round of bond buying or rollover the RBA’s 3-year target to a later bond. His speech comes on the same day as the latest jobless figures.\\n\\nBOJ Continues to Control Yield Curve\\n\\nThe Bank of Japan meets Friday and is expected by economists to extend its lending measures aimed at helping businesses struggling in the pandemic. The central bank will likely leave its main settings on hold, with data out earlier in the day expected to show Japan’s prices still falling.\\n\\nIndonesia and Taiwan’s central banks meet Thursday.\\n\\nFor more, read Bloomberg Economics’ full Week Ahead for Asia\\n\\nEurope, Middle East, Africa\\n\\nThe U.K. will take the limelight on Monday with a much-awaited decision on whether the country will proceed with full reopening on June 21. Prime Minister Johnson is likely to briefly delay that moment, though with only limited impact on the economy’s rapid recovery from the coronavirus pandemic, according to Bloomberg Economics.\\n\\nIn a measure of the rebound, inflation data due Wednesday are likely to show a jump to 1.8%. Other gauges to watch this week include unemployment, which will probably slip to 4.7%, and retail sales, probably with a fourth consecutive monthly increase.\\n\\nBank of England Governor Andrew Bailey will deliver two speeches during the week, while in the euro zone, Isabel Schnabel and Philip Lane are just two of at least ten European Central Bank officials scheduled to speak.\\n\\nRead more: Worst Fears of Enduring Pain for Euro-Area Workers Are Subsiding\\n\\nThursday will feature multiple rate decisions throughout the region. The Swiss National Bank is almost certain keep its deposit rate at -0.75% and reiterate its pledge to use currency market interventions, if necessary. By contrast in Norway, the Norges Bank may signal it will begin raising borrowing costs as soon as September.\\n\\nFurther east the same day, Ukraine’s central bank will decide on rates after inflation jumped to a two-year high.\\n\\nIn Turkey meanwhile, officials are expected to keep rates unchanged for a third month, as the wobbly lira and global commodity prices continue to cloud the inflation outlook. Governor Sahap Kavcioglu has tried to assuage concerns of premature easing after President Recep Tayyip Erdogan renewed his calls for lower borrowing costs by mid-summer.\\n\\nAlso on Thursday: While there’s room for a cut in Egypt, analysts expect the central bank to leave the rate unchanged as inflation is expected to edge up.\\n\\nIn Africa, Namibia will likely keep its benchmark on hold 25 basis points higher than South Africa’s on Wednesday to help protect the country’s reserves and currency peg with its southern neighbor. In Botswana the next day, officials are also expected to keep policy unchanged, even with inflation on track to exceed the 6% top of the target range, as credit growth remains weak.\\n\\nFor more, read Bloomberg Economics’ full Week Ahead for EMEA\\n\\nLatin America\\n\\nLast week’s better-than-expected output report from Brazil -- showing its economy back to pre-pandemic levels -- set off a flurry of 2021 GDP revisions. Look for April’s economic activity data to show a strong start to the second quarter.\\n\\nThe civil unrest roiling Colombia since April likely began too late in the month to undermine base effect-fueled rebounds in the month’s economic activity, sales, and industrial output figures.\\n\\nIn Peru, Lima’s unemployment report for May will likely show it near last year’s record high while national economic activity data for April may build on the improvement seen in the March reading. Consumer prices across Argentina and in Buenos Aires for May should find both pushing 50% year-on-year.\\n\\nLook for Brazil’s central bank to raise its key rate by 75 basis points for a third straight meeting on Wednesday to 4.25%. While annual inflation is now well over target, the central bank sees consumer prices peaking soon and the output gap remains negative.\\n\\nFor more, read Bloomberg Economics’ full Week Ahead for Latin America\\n\\nMore stories like this are available on bloomberg.com\\n\\nSubscribe now to stay ahead with the most trusted business news source.\\n\\n©2021 Bloomberg L.P.'"
      ]
     },
     "execution_count": 10,
     "metadata": {},
     "output_type": "execute_result"
    }
   ],
   "source": [
    "article.text"
   ]
  },
  {
   "cell_type": "code",
   "execution_count": 11,
   "metadata": {},
   "outputs": [
    {
     "name": "stderr",
     "output_type": "stream",
     "text": [
      "[nltk_data] Downloading package punkt to\n",
      "[nltk_data]     C:\\Users\\randy\\AppData\\Roaming\\nltk_data...\n",
      "[nltk_data]   Package punkt is already up-to-date!\n"
     ]
    }
   ],
   "source": [
    "import nltk\n",
    "nltk.download('punkt')\n",
    "article.nlp()"
   ]
  },
  {
   "cell_type": "code",
   "execution_count": 12,
   "metadata": {},
   "outputs": [
    {
     "data": {
      "text/plain": [
       "['central',\n",
       " 'reaches',\n",
       " 'bank',\n",
       " 'data',\n",
       " 'bloomberg',\n",
       " 'crisis',\n",
       " 'expected',\n",
       " 'interest',\n",
       " 'week',\n",
       " 'eco',\n",
       " 'rates',\n",
       " 'global',\n",
       " 'economy',\n",
       " 'crossroads',\n",
       " 'likely',\n",
       " 'inflation']"
      ]
     },
     "execution_count": 12,
     "metadata": {},
     "output_type": "execute_result"
    }
   ],
   "source": [
    "article.keywords"
   ]
  },
  {
   "cell_type": "code",
   "execution_count": 13,
   "metadata": {},
   "outputs": [
    {
     "data": {
      "text/plain": [
       "'Story continuesClick here for what happened last week and below is our wrap of what is coming up in the global economy.\\nIn Canada, inflation data out on Wednesday could stoke worries about loose monetary policy settings.\\nFurther east the same day, Ukraine’s central bank will decide on rates after inflation jumped to a two-year high.\\nLook for Brazil’s central bank to raise its key rate by 75 basis points for a third straight meeting on Wednesday to 4.25%.\\nWhile annual inflation is now well over target, the central bank sees consumer prices peaking soon and the output gap remains negative.'"
      ]
     },
     "execution_count": 13,
     "metadata": {},
     "output_type": "execute_result"
    }
   ],
   "source": [
    "article.summary"
   ]
  },
  {
   "cell_type": "markdown",
   "metadata": {},
   "source": [
    "### Scraping Tables with Pandas"
   ]
  },
  {
   "cell_type": "code",
   "execution_count": 14,
   "metadata": {},
   "outputs": [],
   "source": [
    "import pandas as pd"
   ]
  },
  {
   "cell_type": "code",
   "execution_count": 15,
   "metadata": {},
   "outputs": [
    {
     "name": "stdout",
     "output_type": "stream",
     "text": [
      "<class 'list'>\n",
      "3\n"
     ]
    }
   ],
   "source": [
    "asx_data = pd.read_html(\"https://en.wikipedia.org/wiki/S%26P/ASX_200\", header=0)\n",
    "\n",
    "print(type(asx_data))\n",
    "print(len(asx_data))"
   ]
  },
  {
   "cell_type": "code",
   "execution_count": 16,
   "metadata": {},
   "outputs": [
    {
     "data": {
      "text/html": [
       "<div>\n",
       "<style scoped>\n",
       "    .dataframe tbody tr th:only-of-type {\n",
       "        vertical-align: middle;\n",
       "    }\n",
       "\n",
       "    .dataframe tbody tr th {\n",
       "        vertical-align: top;\n",
       "    }\n",
       "\n",
       "    .dataframe thead th {\n",
       "        text-align: right;\n",
       "    }\n",
       "</style>\n",
       "<table border=\"1\" class=\"dataframe\">\n",
       "  <thead>\n",
       "    <tr style=\"text-align: right;\">\n",
       "      <th></th>\n",
       "      <th>Code</th>\n",
       "      <th>Company</th>\n",
       "      <th>Sector</th>\n",
       "      <th>Market Capitalisation</th>\n",
       "      <th>Chairperson</th>\n",
       "      <th>HQ</th>\n",
       "    </tr>\n",
       "  </thead>\n",
       "  <tbody>\n",
       "    <tr>\n",
       "      <th>0</th>\n",
       "      <td>A2M</td>\n",
       "      <td>The a2 Milk Company</td>\n",
       "      <td>Consumer Staples</td>\n",
       "      <td>4.222573e+09</td>\n",
       "      <td>David Hearn</td>\n",
       "      <td>Auckland</td>\n",
       "    </tr>\n",
       "    <tr>\n",
       "      <th>1</th>\n",
       "      <td>ABC</td>\n",
       "      <td>Adbri Ltd</td>\n",
       "      <td>Materials</td>\n",
       "      <td>2.114513e+09</td>\n",
       "      <td>Raymond Barro</td>\n",
       "      <td>Sydney</td>\n",
       "    </tr>\n",
       "    <tr>\n",
       "      <th>2</th>\n",
       "      <td>ABP</td>\n",
       "      <td>Abacus Property Group</td>\n",
       "      <td>Real Estate</td>\n",
       "      <td>2.504890e+09</td>\n",
       "      <td>Myra Salkinder</td>\n",
       "      <td>Sydney</td>\n",
       "    </tr>\n",
       "    <tr>\n",
       "      <th>3</th>\n",
       "      <td>AGL</td>\n",
       "      <td>AGL Energy Ltd</td>\n",
       "      <td>Utilities</td>\n",
       "      <td>5.361206e+09</td>\n",
       "      <td>Peter Botten</td>\n",
       "      <td>Sydney</td>\n",
       "    </tr>\n",
       "    <tr>\n",
       "      <th>4</th>\n",
       "      <td>AIA</td>\n",
       "      <td>Auckland International Airport</td>\n",
       "      <td>Industrials</td>\n",
       "      <td>1.042566e+10</td>\n",
       "      <td>Dr Patrick Strange</td>\n",
       "      <td>Auckland</td>\n",
       "    </tr>\n",
       "    <tr>\n",
       "      <th>...</th>\n",
       "      <td>...</td>\n",
       "      <td>...</td>\n",
       "      <td>...</td>\n",
       "      <td>...</td>\n",
       "      <td>...</td>\n",
       "      <td>...</td>\n",
       "    </tr>\n",
       "    <tr>\n",
       "      <th>195</th>\n",
       "      <td>WPL</td>\n",
       "      <td>Woodside Petroleum</td>\n",
       "      <td>Energy</td>\n",
       "      <td>3.393550e+10</td>\n",
       "      <td>Richard Goyder</td>\n",
       "      <td>NaN</td>\n",
       "    </tr>\n",
       "    <tr>\n",
       "      <th>196</th>\n",
       "      <td>WPR</td>\n",
       "      <td>Waypoint REIT[15]</td>\n",
       "      <td>Real Estate</td>\n",
       "      <td>1.756310e+09</td>\n",
       "      <td>NaN</td>\n",
       "      <td>NaN</td>\n",
       "    </tr>\n",
       "    <tr>\n",
       "      <th>197</th>\n",
       "      <td>WTC</td>\n",
       "      <td>Wisetech Global Ltd</td>\n",
       "      <td>Information Technology</td>\n",
       "      <td>5.798960e+09</td>\n",
       "      <td>Andrew Harrison</td>\n",
       "      <td>Sydney</td>\n",
       "    </tr>\n",
       "    <tr>\n",
       "      <th>198</th>\n",
       "      <td>XRO</td>\n",
       "      <td>Xero Ltd</td>\n",
       "      <td>Information Technology</td>\n",
       "      <td>6.685840e+09</td>\n",
       "      <td>Graham Smith</td>\n",
       "      <td>Wellington</td>\n",
       "    </tr>\n",
       "    <tr>\n",
       "      <th>199</th>\n",
       "      <td>Z1P</td>\n",
       "      <td>Zip Co Limited</td>\n",
       "      <td>Financials</td>\n",
       "      <td>NaN</td>\n",
       "      <td>NaN</td>\n",
       "      <td>NaN</td>\n",
       "    </tr>\n",
       "  </tbody>\n",
       "</table>\n",
       "<p>200 rows × 6 columns</p>\n",
       "</div>"
      ],
      "text/plain": [
       "    Code                         Company                  Sector  \\\n",
       "0    A2M             The a2 Milk Company        Consumer Staples   \n",
       "1    ABC                       Adbri Ltd               Materials   \n",
       "2    ABP           Abacus Property Group             Real Estate   \n",
       "3    AGL                  AGL Energy Ltd               Utilities   \n",
       "4    AIA  Auckland International Airport             Industrials   \n",
       "..   ...                             ...                     ...   \n",
       "195  WPL              Woodside Petroleum                  Energy   \n",
       "196  WPR               Waypoint REIT[15]             Real Estate   \n",
       "197  WTC             Wisetech Global Ltd  Information Technology   \n",
       "198  XRO                        Xero Ltd  Information Technology   \n",
       "199  Z1P                  Zip Co Limited              Financials   \n",
       "\n",
       "     Market Capitalisation         Chairperson          HQ  \n",
       "0             4.222573e+09         David Hearn    Auckland  \n",
       "1             2.114513e+09       Raymond Barro      Sydney  \n",
       "2             2.504890e+09      Myra Salkinder      Sydney  \n",
       "3             5.361206e+09        Peter Botten      Sydney  \n",
       "4             1.042566e+10  Dr Patrick Strange    Auckland  \n",
       "..                     ...                 ...         ...  \n",
       "195           3.393550e+10      Richard Goyder         NaN  \n",
       "196           1.756310e+09                 NaN         NaN  \n",
       "197           5.798960e+09     Andrew Harrison      Sydney  \n",
       "198           6.685840e+09        Graham Smith  Wellington  \n",
       "199                    NaN                 NaN         NaN  \n",
       "\n",
       "[200 rows x 6 columns]"
      ]
     },
     "execution_count": 16,
     "metadata": {},
     "output_type": "execute_result"
    }
   ],
   "source": [
    "asx_table = asx_data[0]\n",
    "asx_table"
   ]
  },
  {
   "cell_type": "code",
   "execution_count": null,
   "metadata": {},
   "outputs": [],
   "source": []
  }
 ],
 "metadata": {
  "kernelspec": {
   "display_name": "Python 3",
   "language": "python",
   "name": "python3"
  },
  "language_info": {
   "codemirror_mode": {
    "name": "ipython",
    "version": 3
   },
   "file_extension": ".py",
   "mimetype": "text/x-python",
   "name": "python",
   "nbconvert_exporter": "python",
   "pygments_lexer": "ipython3",
   "version": "3.8.5"
  }
 },
 "nbformat": 4,
 "nbformat_minor": 4
}
